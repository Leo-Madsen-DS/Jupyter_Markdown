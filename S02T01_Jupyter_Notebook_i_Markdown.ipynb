{
 "cells": [
  {
   "cell_type": "markdown",
   "metadata": {
    "id": "Dt72-0Qi0Yau"
   },
   "source": [
    "## Descripció\n",
    "\n",
    "Comencem a familiaritzar-nos amb Python mitjançant l'entorn de treball \"Jupyter Notebook\" !!! Comencem amb uns quants exercicis bàsics"
   ]
  },
  {
   "cell_type": "markdown",
   "metadata": {
    "id": "aHjCkWGL0r5P"
   },
   "source": [
    "## Nivell 1"
   ]
  },
  {
   "cell_type": "markdown",
   "metadata": {
    "id": "K3NgV-Rl0y1L"
   },
   "source": [
    "### Exercici 1\n",
    "Instal·la el programa Anaconda amb Python 3, i Jupyter Notebook."
   ]
  },
  {
   "cell_type": "markdown",
   "metadata": {
    "id": "Y8BClR5p0y4N"
   },
   "source": [
    "### Exercici 2\n",
    "Utilitzant Jupyter Notebook executa alguns càlculs senzills, a la vegada que et familiaritzes amb el llenguatge Markdown."
   ]
  },
  {
   "cell_type": "markdown",
   "metadata": {
    "id": "HWW_6RyaiEKj"
   },
   "source": [
    "#### Variables"
   ]
  },
  {
   "cell_type": "code",
   "execution_count": 11,
   "metadata": {
    "collapsed": true,
    "id": "6W18ke5UiEKm"
   },
   "outputs": [],
   "source": [
    "# declarar variables\n",
    "x = 2\n",
    "y = 5\n",
    "xy = 'Hey'\n",
    "print x+y, xy"
   ]
  },
  {
   "cell_type": "code",
   "execution_count": null,
   "metadata": {
    "id": "WJgPrRTFGdUC"
   },
   "outputs": [],
   "source": [
    "# assignar diverses variables amb el mateix valor. \n",
    "x = y = 1\n",
    "print x,y"
   ]
  },
  {
   "cell_type": "markdown",
   "metadata": {
    "id": "OUE0n4ixiEKw"
   },
   "source": [
    "#### Operadores"
   ]
  },
  {
   "cell_type": "markdown",
   "metadata": {
    "id": "wLL8L07siEKy"
   },
   "source": [
    "##### Operadores aritméticos"
   ]
  },
  {
   "cell_type": "markdown",
   "metadata": {
    "id": "dV37jFwPiEKy"
   },
   "source": [
    "| Símbol | Tasca realitzada |\n",
    "|----|---|\n",
    "| +  | Adición |\n",
    "| - | Resta |\n",
    "| /  | División |\n",
    "| %  | Módulo |\n",
    "| *  | Multiplicación |\n",
    "| //  | División piso|\n",
    "| **  | Potenciación |"
   ]
  },
  {
   "cell_type": "code",
   "execution_count": 28,
   "metadata": {
    "colab": {
     "base_uri": "https://localhost:8080/"
    },
    "id": "eFLo3eG7iEKz",
    "outputId": "cbc574a2-0e4a-4e11-aacf-8c6c3290ac8c"
   },
   "outputs": [
    {
     "name": "stdout",
     "output_type": "stream",
     "text": [
      "5\n"
     ]
    }
   ],
   "source": [
    "x = 2+3\n",
    "print(x)"
   ]
  },
  {
   "cell_type": "code",
   "execution_count": 29,
   "metadata": {
    "colab": {
     "base_uri": "https://localhost:8080/"
    },
    "id": "hbNvDYkIiEK1",
    "outputId": "ec10eeb4-fe3d-4034-a724-01c3b12219f5"
   },
   "outputs": [
    {
     "name": "stdout",
     "output_type": "stream",
     "text": [
      "1\n"
     ]
    }
   ],
   "source": [
    "x = 2-1\n",
    "print(x)"
   ]
  },
  {
   "cell_type": "code",
   "execution_count": 31,
   "metadata": {
    "colab": {
     "base_uri": "https://localhost:8080/"
    },
    "id": "5XGGp7eIiEK1",
    "outputId": "b49e01b3-0735-4c1a-a9e2-0612d40c1ad3"
   },
   "outputs": [
    {
     "name": "stdout",
     "output_type": "stream",
     "text": [
      "2\n"
     ]
    }
   ],
   "source": [
    "x = 1*2\n",
    "print(x)"
   ]
  },
  {
   "cell_type": "code",
   "execution_count": 32,
   "metadata": {
    "colab": {
     "base_uri": "https://localhost:8080/"
    },
    "id": "rymdYRyPiEK2",
    "outputId": "b985e1a3-a5a9-43e9-ff11-ff95206a14cd"
   },
   "outputs": [
    {
     "name": "stdout",
     "output_type": "stream",
     "text": [
      "0\n"
     ]
    }
   ],
   "source": [
    "# Si tanto el numerador como el denominador son números enteros, pero el resultado es un valor flotante, se devuelverá un valor entero. \n",
    "x = 1/2\n",
    "print(x)"
   ]
  },
  {
   "cell_type": "code",
   "execution_count": 33,
   "metadata": {
    "colab": {
     "base_uri": "https://localhost:8080/"
    },
    "id": "LG311wbu8GDc",
    "outputId": "79250dcf-2d80-4b06-e340-0f9fa3d59783"
   },
   "outputs": [
    {
     "name": "stdout",
     "output_type": "stream",
     "text": [
      "0.5\n"
     ]
    }
   ],
   "source": [
    "#Para obtener la respuesta correcta debemos cambiar el numerador o el denominador a tipo flotante\n",
    "x = 1/2.0\n",
    "print(x)"
   ]
  },
  {
   "cell_type": "code",
   "execution_count": 34,
   "metadata": {
    "colab": {
     "base_uri": "https://localhost:8080/"
    },
    "id": "oI_ZRUHdiEK6",
    "outputId": "c293546d-609a-4db5-a843-e7029c689668"
   },
   "outputs": [
    {
     "name": "stdout",
     "output_type": "stream",
     "text": [
      "5\n"
     ]
    }
   ],
   "source": [
    "x = 15%10\n",
    "print(x)"
   ]
  },
  {
   "cell_type": "code",
   "execution_count": 35,
   "metadata": {
    "colab": {
     "base_uri": "https://localhost:8080/"
    },
    "id": "Kp9lp5FziEK7",
    "outputId": "85890607-bd71-47b7-b6b8-ed55bb8585db"
   },
   "outputs": [
    {
     "name": "stdout",
     "output_type": "stream",
     "text": [
      "1.0\n"
     ]
    }
   ],
   "source": [
    "x = 2.8//2.0\n",
    "print(x)"
   ]
  },
  {
   "cell_type": "markdown",
   "metadata": {
    "id": "udGF4Uq0iEK8"
   },
   "source": [
    "##### Operadores relacionales"
   ]
  },
  {
   "cell_type": "markdown",
   "metadata": {
    "id": "JEO88vnviEK9"
   },
   "source": [
    "| Operador | Descripción  |\n",
    "|----|---|\n",
    "| == | Devuelve `True` si ambos operandos son iguales |\n",
    "| ! = | Devuelve `True` si ambos operandos no son iguales|\n",
    "| <| Devuelve `True` si el operador de la derecha es mayor que el operador de la izquierda |\n",
    "| > | Devuelve `True` si el operador de la izquierda es mayor que el operador de la derecha |\n",
    "| <= | Devuelve `True` si el operador de la derecha es mayor o igual que el operador de la izquierda |\n",
    "| > = | Devuelve `True` si el operador de la izquierda es mayor o igual que el operador de la derecha |\n"
   ]
  },
  {
   "cell_type": "code",
   "execution_count": 63,
   "metadata": {
    "colab": {
     "base_uri": "https://localhost:8080/"
    },
    "collapsed": true,
    "id": "BjBt9KS7iEK-",
    "outputId": "0f230690-9678-4a06-f9fd-8e8a618b1868"
   },
   "outputs": [
    {
     "data": {
      "text/plain": [
       "False"
      ]
     },
     "execution_count": 63,
     "metadata": {
      "tags": []
     },
     "output_type": "execute_result"
    }
   ],
   "source": [
    "12 == 3  #False"
   ]
  },
  {
   "cell_type": "code",
   "execution_count": 64,
   "metadata": {
    "colab": {
     "base_uri": "https://localhost:8080/"
    },
    "id": "xWnYVpc_iELA",
    "outputId": "1efe89e8-2f99-4b11-93df-c8d861d4b2c3"
   },
   "outputs": [
    {
     "data": {
      "text/plain": [
       "True"
      ]
     },
     "execution_count": 64,
     "metadata": {
      "tags": []
     },
     "output_type": "execute_result"
    }
   ],
   "source": [
    "12 != 3  #True"
   ]
  },
  {
   "cell_type": "code",
   "execution_count": 65,
   "metadata": {
    "colab": {
     "base_uri": "https://localhost:8080/"
    },
    "id": "CgyKs0ZENum_",
    "outputId": "c76f1ba2-69f8-49b0-ef91-77985393f143"
   },
   "outputs": [
    {
     "data": {
      "text/plain": [
       "False"
      ]
     },
     "execution_count": 65,
     "metadata": {
      "tags": []
     },
     "output_type": "execute_result"
    }
   ],
   "source": [
    "12 < 3 #False"
   ]
  },
  {
   "cell_type": "code",
   "execution_count": 66,
   "metadata": {
    "colab": {
     "base_uri": "https://localhost:8080/"
    },
    "id": "mUmhNxhFNuxN",
    "outputId": "03555f03-d476-4b16-c6e3-2bce35db47a1"
   },
   "outputs": [
    {
     "data": {
      "text/plain": [
       "True"
      ]
     },
     "execution_count": 66,
     "metadata": {
      "tags": []
     },
     "output_type": "execute_result"
    }
   ],
   "source": [
    "12 > 3 #True"
   ]
  },
  {
   "cell_type": "code",
   "execution_count": 67,
   "metadata": {
    "colab": {
     "base_uri": "https://localhost:8080/"
    },
    "id": "hwIKQ9M5Ny3W",
    "outputId": "d62ba2af-8d58-4054-9e63-6a79d35b88ee"
   },
   "outputs": [
    {
     "data": {
      "text/plain": [
       "True"
      ]
     },
     "execution_count": 67,
     "metadata": {
      "tags": []
     },
     "output_type": "execute_result"
    }
   ],
   "source": [
    "12 >= 3 #True"
   ]
  },
  {
   "cell_type": "code",
   "execution_count": 68,
   "metadata": {
    "colab": {
     "base_uri": "https://localhost:8080/"
    },
    "id": "glCqyQ6gN0JQ",
    "outputId": "5453dd4c-4cd8-4f93-c01d-378f87f796a3"
   },
   "outputs": [
    {
     "data": {
      "text/plain": [
       "False"
      ]
     },
     "execution_count": 68,
     "metadata": {
      "tags": []
     },
     "output_type": "execute_result"
    }
   ],
   "source": [
    "12 <= 3 #False"
   ]
  },
  {
   "cell_type": "markdown",
   "metadata": {
    "id": "9M98KbQCiELB"
   },
   "source": [
    "##### Operadores lógicos"
   ]
  },
  {
   "cell_type": "markdown",
   "metadata": {
    "id": "dyKFpYb8iELC"
   },
   "source": [
    "| Operador | Uso  | Descripción|\n",
    "|----|---|---|\n",
    "| and|a and b |Devuelve `True` si ambos operandos son **True**|\n",
    "| or | a or b  | Devuelve `True` si alguno de los operandos es **True**|\n",
    "| not | not a |Devuelve `True` si alguno de los operandos **False**|"
   ]
  },
  {
   "cell_type": "code",
   "execution_count": 59,
   "metadata": {
    "colab": {
     "base_uri": "https://localhost:8080/"
    },
    "id": "tahZt81QLjFc",
    "outputId": "a3101721-490f-43c2-8eab-cfb4c27f7606"
   },
   "outputs": [
    {
     "name": "stdout",
     "output_type": "stream",
     "text": [
      "False\n"
     ]
    }
   ],
   "source": [
    "a = True\n",
    "b = False\n",
    "print(a and b) #False"
   ]
  },
  {
   "cell_type": "code",
   "execution_count": 60,
   "metadata": {
    "colab": {
     "base_uri": "https://localhost:8080/"
    },
    "id": "r0wdEBwqLpAO",
    "outputId": "2ecb21dd-2c8d-4953-f530-f426b1d3c26a"
   },
   "outputs": [
    {
     "name": "stdout",
     "output_type": "stream",
     "text": [
      "True\n"
     ]
    }
   ],
   "source": [
    "print(a or b) #True"
   ]
  },
  {
   "cell_type": "code",
   "execution_count": 69,
   "metadata": {
    "colab": {
     "base_uri": "https://localhost:8080/"
    },
    "id": "hs34tT8bL0gX",
    "outputId": "2fd6e18f-6aeb-4e97-aa1b-d118033d6330"
   },
   "outputs": [
    {
     "name": "stdout",
     "output_type": "stream",
     "text": [
      "False\n",
      "True\n"
     ]
    }
   ],
   "source": [
    "print(not a) #False\n",
    "print(not b) #True"
   ]
  },
  {
   "cell_type": "markdown",
   "metadata": {
    "id": "NE0OSPvq0cnr"
   },
   "source": [
    "### Exercici 3\n",
    "\n",
    "Prova de crear títols, llistes, canviar l’estil de la lletra o afegir imatges dins del Notebook."
   ]
  },
  {
   "cell_type": "markdown",
   "metadata": {
    "id": "xkID0zUBEp-N"
   },
   "source": [
    "- **Python** es un lenguaje _interpretado_, en contraste con **Java** y **C**, que son lenguajes compilados.\n",
    "- Esto significa que podemos escribir declaraciones en el intérprete y se ejecutan inmediatamente.\n",
    "- Los grupos de declaraciones se ejecutan todos uno tras otro\n",
    "\n",
    "\n",
    "#### Tipos de variables\n",
    "\n",
    "\n",
    "\n",
    "1.   int\n",
    "2.   str\n",
    "3.   float\n",
    "4.   bool\n",
    "\n",
    "\n"
   ]
  },
  {
   "cell_type": "code",
   "execution_count": null,
   "metadata": {
    "id": "TMUd0MFIEp-P",
    "outputId": "669c4164-4fc2-487e-b806-a43356248679"
   },
   "outputs": [
    {
     "data": {
      "text/plain": [
       "int"
      ]
     },
     "execution_count": 9,
     "metadata": {
      "tags": []
     },
     "output_type": "execute_result"
    }
   ],
   "source": [
    "type(1)"
   ]
  },
  {
   "cell_type": "code",
   "execution_count": null,
   "metadata": {
    "id": "1wYtl2mQEp-P",
    "outputId": "b473dc1e-21bc-4368-e72e-34f0a99f271d"
   },
   "outputs": [
    {
     "data": {
      "text/plain": [
       "str"
      ]
     },
     "execution_count": 10,
     "metadata": {
      "tags": []
     },
     "output_type": "execute_result"
    }
   ],
   "source": [
    "type('hello')"
   ]
  },
  {
   "cell_type": "code",
   "execution_count": null,
   "metadata": {
    "id": "EM_cEhCIEp-Q",
    "outputId": "43494021-c400-462a-a5f7-8a2257c81a05"
   },
   "outputs": [
    {
     "data": {
      "text/plain": [
       "float"
      ]
     },
     "execution_count": 11,
     "metadata": {
      "tags": []
     },
     "output_type": "execute_result"
    }
   ],
   "source": [
    "type(2.5)"
   ]
  },
  {
   "cell_type": "code",
   "execution_count": null,
   "metadata": {
    "id": "tOTJDEqdEp-R",
    "outputId": "eebd6deb-cfc8-4b00-ccc8-73c5d134db36"
   },
   "outputs": [
    {
     "data": {
      "text/plain": [
       "bool"
      ]
     },
     "execution_count": 12,
     "metadata": {
      "tags": []
     },
     "output_type": "execute_result"
    }
   ],
   "source": [
    "type(True)"
   ]
  },
  {
   "cell_type": "markdown",
   "metadata": {
    "id": "QMfEAVGG086g"
   },
   "source": [
    "## Nivell 2"
   ]
  },
  {
   "cell_type": "markdown",
   "metadata": {
    "id": "F0EnTW6S1APT"
   },
   "source": [
    "### Exercici 1\n",
    "Exporta el Notebook com a pdf i com a html."
   ]
  },
  {
   "cell_type": "markdown",
   "metadata": {
    "id": "HizqH_a01B50"
   },
   "source": [
    "## Nivell 3"
   ]
  },
  {
   "cell_type": "markdown",
   "metadata": {
    "id": "Ma44sEbKtUA5"
   },
   "source": [
    "### Exercici 1\n",
    "Instal·la Nbextensions al Notebook de Jupyter."
   ]
  },
  {
   "cell_type": "code",
   "execution_count": 2,
   "metadata": {},
   "outputs": [
    {
     "name": "stdout",
     "output_type": "stream",
     "text": [
      "Requirement already satisfied: nbconvert[webpdf] in /home/leo/.local/lib/python3.8/site-packages (6.0.7)\n",
      "Requirement already satisfied: jupyter-core in /home/leo/.local/lib/python3.8/site-packages (from nbconvert[webpdf]) (4.7.1)\n",
      "Requirement already satisfied: pygments>=2.4.1 in /home/leo/.local/lib/python3.8/site-packages (from nbconvert[webpdf]) (2.8.0)\n",
      "Requirement already satisfied: pandocfilters>=1.4.1 in /home/leo/.local/lib/python3.8/site-packages (from nbconvert[webpdf]) (1.4.3)\n",
      "Requirement already satisfied: nbformat>=4.4 in /home/leo/.local/lib/python3.8/site-packages (from nbconvert[webpdf]) (5.1.2)\n",
      "Requirement already satisfied: nbclient<0.6.0,>=0.5.0 in /home/leo/.local/lib/python3.8/site-packages (from nbconvert[webpdf]) (0.5.2)\n",
      "Requirement already satisfied: defusedxml in /home/leo/.local/lib/python3.8/site-packages (from nbconvert[webpdf]) (0.6.0)\n",
      "Requirement already satisfied: testpath in /home/leo/.local/lib/python3.8/site-packages (from nbconvert[webpdf]) (0.4.4)\n",
      "Requirement already satisfied: jupyterlab-pygments in /home/leo/.local/lib/python3.8/site-packages (from nbconvert[webpdf]) (0.1.2)\n",
      "Requirement already satisfied: entrypoints>=0.2.2 in /home/leo/anaconda3/lib/python3.8/site-packages (from nbconvert[webpdf]) (0.3)\n",
      "Requirement already satisfied: bleach in /home/leo/.local/lib/python3.8/site-packages (from nbconvert[webpdf]) (3.3.0)\n",
      "Requirement already satisfied: traitlets>=4.2 in /home/leo/.local/lib/python3.8/site-packages (from nbconvert[webpdf]) (5.0.5)\n",
      "Requirement already satisfied: jinja2>=2.4 in /home/leo/.local/lib/python3.8/site-packages (from nbconvert[webpdf]) (2.11.3)\n",
      "Requirement already satisfied: mistune<2,>=0.8.1 in /home/leo/.local/lib/python3.8/site-packages (from nbconvert[webpdf]) (0.8.4)\n",
      "Collecting pyppeteer==0.2.2\n",
      "  Downloading pyppeteer-0.2.2-py3-none-any.whl (145 kB)\n",
      "\u001b[K     |████████████████████████████████| 145 kB 4.3 MB/s eta 0:00:01\n",
      "\u001b[?25hRequirement already satisfied: urllib3<2.0.0,>=1.25.8 in /home/leo/anaconda3/lib/python3.8/site-packages (from pyppeteer==0.2.2->nbconvert[webpdf]) (1.26.4)\n",
      "Collecting websockets<9.0,>=8.1\n",
      "  Downloading websockets-8.1-cp38-cp38-manylinux2010_x86_64.whl (78 kB)\n",
      "\u001b[K     |████████████████████████████████| 78 kB 4.2 MB/s  eta 0:00:01\n",
      "\u001b[?25hCollecting pyee<8.0.0,>=7.0.1\n",
      "  Downloading pyee-7.0.4-py2.py3-none-any.whl (12 kB)\n",
      "Requirement already satisfied: tqdm<5.0.0,>=4.42.1 in /home/leo/anaconda3/lib/python3.8/site-packages (from pyppeteer==0.2.2->nbconvert[webpdf]) (4.59.0)\n",
      "Requirement already satisfied: appdirs<2.0.0,>=1.4.3 in /home/leo/anaconda3/lib/python3.8/site-packages (from pyppeteer==0.2.2->nbconvert[webpdf]) (1.4.4)\n",
      "Requirement already satisfied: MarkupSafe>=0.23 in /home/leo/anaconda3/lib/python3.8/site-packages (from jinja2>=2.4->nbconvert[webpdf]) (1.1.1)\n",
      "Requirement already satisfied: jupyter-client>=6.1.5 in /home/leo/.local/lib/python3.8/site-packages (from nbclient<0.6.0,>=0.5.0->nbconvert[webpdf]) (6.1.11)\n",
      "Requirement already satisfied: async-generator in /home/leo/.local/lib/python3.8/site-packages (from nbclient<0.6.0,>=0.5.0->nbconvert[webpdf]) (1.10)\n",
      "Requirement already satisfied: nest-asyncio in /home/leo/.local/lib/python3.8/site-packages (from nbclient<0.6.0,>=0.5.0->nbconvert[webpdf]) (1.5.1)\n",
      "Requirement already satisfied: python-dateutil>=2.1 in /home/leo/anaconda3/lib/python3.8/site-packages (from jupyter-client>=6.1.5->nbclient<0.6.0,>=0.5.0->nbconvert[webpdf]) (2.8.1)\n",
      "Requirement already satisfied: pyzmq>=13 in /home/leo/.local/lib/python3.8/site-packages (from jupyter-client>=6.1.5->nbclient<0.6.0,>=0.5.0->nbconvert[webpdf]) (22.0.3)\n",
      "Requirement already satisfied: tornado>=4.1 in /home/leo/.local/lib/python3.8/site-packages (from jupyter-client>=6.1.5->nbclient<0.6.0,>=0.5.0->nbconvert[webpdf]) (6.1)\n",
      "Requirement already satisfied: ipython-genutils in /home/leo/.local/lib/python3.8/site-packages (from nbformat>=4.4->nbconvert[webpdf]) (0.2.0)\n",
      "Requirement already satisfied: jsonschema!=2.5.0,>=2.4 in /home/leo/.local/lib/python3.8/site-packages (from nbformat>=4.4->nbconvert[webpdf]) (3.2.0)\n",
      "Requirement already satisfied: six>=1.11.0 in /home/leo/anaconda3/lib/python3.8/site-packages (from jsonschema!=2.5.0,>=2.4->nbformat>=4.4->nbconvert[webpdf]) (1.15.0)\n",
      "Requirement already satisfied: attrs>=17.4.0 in /home/leo/.local/lib/python3.8/site-packages (from jsonschema!=2.5.0,>=2.4->nbformat>=4.4->nbconvert[webpdf]) (20.3.0)\n",
      "Requirement already satisfied: pyrsistent>=0.14.0 in /home/leo/.local/lib/python3.8/site-packages (from jsonschema!=2.5.0,>=2.4->nbformat>=4.4->nbconvert[webpdf]) (0.17.3)\n",
      "Requirement already satisfied: setuptools in /home/leo/anaconda3/lib/python3.8/site-packages (from jsonschema!=2.5.0,>=2.4->nbformat>=4.4->nbconvert[webpdf]) (52.0.0.post20210125)\n",
      "Requirement already satisfied: webencodings in /home/leo/.local/lib/python3.8/site-packages (from bleach->nbconvert[webpdf]) (0.5.1)\n",
      "Requirement already satisfied: packaging in /home/leo/.local/lib/python3.8/site-packages (from bleach->nbconvert[webpdf]) (20.9)\n",
      "Requirement already satisfied: pyparsing>=2.0.2 in /home/leo/.local/lib/python3.8/site-packages (from packaging->bleach->nbconvert[webpdf]) (2.4.7)\n",
      "Installing collected packages: websockets, pyee, pyppeteer\n",
      "Successfully installed pyee-7.0.4 pyppeteer-0.2.2 websockets-8.1\n"
     ]
    }
   ],
   "source": [
    "!pip install nbconvert[webpdf]"
   ]
  }
 ],
 "metadata": {
  "colab": {
   "name": "S02T01-Jupyter_Notebook_i_Markdown.ipynb",
   "provenance": [],
   "toc_visible": true
  },
  "kernelspec": {
   "display_name": "Python 3",
   "language": "python",
   "name": "python3"
  },
  "language_info": {
   "codemirror_mode": {
    "name": "ipython",
    "version": 3
   },
   "file_extension": ".py",
   "mimetype": "text/x-python",
   "name": "python",
   "nbconvert_exporter": "python",
   "pygments_lexer": "ipython3",
   "version": "3.8.8"
  }
 },
 "nbformat": 4,
 "nbformat_minor": 1
}
